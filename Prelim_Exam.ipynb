{
  "nbformat": 4,
  "nbformat_minor": 0,
  "metadata": {
    "colab": {
      "provenance": [],
      "authorship_tag": "ABX9TyO55IFmRvNVjpfriW6Fplo/",
      "include_colab_link": true
    },
    "kernelspec": {
      "name": "python3",
      "display_name": "Python 3"
    },
    "language_info": {
      "name": "python"
    }
  },
  "cells": [
    {
      "cell_type": "markdown",
      "metadata": {
        "id": "view-in-github",
        "colab_type": "text"
      },
      "source": [
        "<a href=\"https://colab.research.google.com/github/MichaelPaulMeneses/DSA-58011/blob/main/Prelim_Exam.ipynb\" target=\"_parent\"><img src=\"https://colab.research.google.com/assets/colab-badge.svg\" alt=\"Open In Colab\"/></a>"
      ]
    },
    {
      "cell_type": "markdown",
      "source": [
        "Create a Python program that appends all composite integers less than 10 but greater than 1 and counts the number of composite"
      ],
      "metadata": {
        "id": "kA-NSLGutLvj"
      }
    },
    {
      "cell_type": "code",
      "execution_count": 41,
      "metadata": {
        "colab": {
          "base_uri": "https://localhost:8080/"
        },
        "id": "xxNGuwCWpVVd",
        "outputId": "b464d1d1-9b5c-4d08-fe61-6ad2af9d6204"
      },
      "outputs": [
        {
          "output_type": "stream",
          "name": "stdout",
          "text": [
            "After Adding Composite Numbers:  10 9 8 7 6 5 4 3 2 1 0 \n",
            "Composite Integers Length: \n",
            "4\n"
          ]
        }
      ],
      "source": [
        "import array as arr\n",
        "\n",
        "a = arr.array('i', [10,9,8,7,6,5,4,3,2,1])\n",
        "\n",
        "a.insert(10,0)\n",
        "print (\"After Adding Composite Numbers: \",end =\" \")\n",
        "for i in (a):\n",
        "  print (i, end = \" \")\n",
        "print()\n",
        "\n",
        "from operator import length_hint\n",
        "inp_list = [4,6,8,9]\n",
        "print(\"Composite Integers Length: \")\n",
        "size = length_hint(inp_list)\n",
        "print(size)"
      ]
    }
  ]
}