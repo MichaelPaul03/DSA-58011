{
  "nbformat": 4,
  "nbformat_minor": 0,
  "metadata": {
    "colab": {
      "provenance": [],
      "authorship_tag": "ABX9TyMrxAIni7SgVpt3NBIntPll",
      "include_colab_link": true
    },
    "kernelspec": {
      "name": "python3",
      "display_name": "Python 3"
    },
    "language_info": {
      "name": "python"
    }
  },
  "cells": [
    {
      "cell_type": "markdown",
      "metadata": {
        "id": "view-in-github",
        "colab_type": "text"
      },
      "source": [
        "<a href=\"https://colab.research.google.com/github/MichaelPaulMeneses/DSA-58011/blob/main/Activity_3.ipynb\" target=\"_parent\"><img src=\"https://colab.research.google.com/assets/colab-badge.svg\" alt=\"Open In Colab\"/></a>"
      ]
    },
    {
      "cell_type": "markdown",
      "source": [
        "Original Code\n",
        "\n"
      ],
      "metadata": {
        "id": "RCsEJ6Hdx7J4"
      }
    },
    {
      "cell_type": "code",
      "execution_count": 1,
      "metadata": {
        "colab": {
          "base_uri": "https://localhost:8080/"
        },
        "id": "TLE2JKgrVo-G",
        "outputId": "6680f490-a6f1-4dc1-fff8-ccaa3883a191"
      },
      "outputs": [
        {
          "output_type": "stream",
          "name": "stdout",
          "text": [
            "Pushed Element: 1\n",
            "Pushed Element: 2\n",
            "Pushed Element: 3\n",
            "Pushed Element: 4\n",
            "Pushed Element: 5\n",
            "The elements in the stack are: ['1', '2', '3', '4', '5']\n"
          ]
        }
      ],
      "source": [
        "def create_stack():\n",
        "  stack = []\n",
        "  return stack\n",
        "\n",
        "def is_empty(stack):\n",
        "  return len(stack) == 0\n",
        "\n",
        "def push(stack,item):\n",
        "  stack.append(item)\n",
        "  print(\"Pushed Element: \"+ item)\n",
        "\n",
        "def pop(stack):\n",
        "  if (is_empty(stack)):\n",
        "    return\"The stack is empty\"\n",
        "  return stack.pop()\n",
        "\n",
        "stack = create_stack()\n",
        "push(stack, str(1))\n",
        "push(stack, str(2))\n",
        "push(stack, str(3))\n",
        "push(stack, str(4))\n",
        "push(stack, str(5))\n",
        "\n",
        "print(\"The elements in the stack are: \"+str(stack))"
      ]
    },
    {
      "cell_type": "markdown",
      "source": [
        "Pop three elements"
      ],
      "metadata": {
        "id": "gZsaNUsVySzU"
      }
    },
    {
      "cell_type": "code",
      "source": [
        "def create_stack():\n",
        "    stack = []\n",
        "    return stack\n",
        "\n",
        "def is_empty(stack):\n",
        "    return len(stack) == 0\n",
        "\n",
        "def push(stack, item):\n",
        "    stack.append(item)\n",
        "    print(\"Pushed Element: \" + item)\n",
        "\n",
        "def pop(stack):\n",
        "    if (is_empty(stack)):\n",
        "        return \"The stack is empty\"\n",
        "    return stack.pop()\n",
        "\n",
        "stack = create_stack()\n",
        "push(stack, str(1))\n",
        "push(stack, str(2))\n",
        "push(stack, str(3))\n",
        "push(stack, str(4))\n",
        "push(stack, str(5))\n",
        "\n",
        "print(\"The elements in the stack are:\"+ str(stack))\n",
        "\n",
        "print(\"The elements popped from the stack:\", [stack.pop(), stack.pop()])\n",
        "\n",
        "print(\"The elements left in the stack are:\", stack)"
      ],
      "metadata": {
        "colab": {
          "base_uri": "https://localhost:8080/"
        },
        "id": "33DckrmfyVjC",
        "outputId": "56427f63-ae1a-4ceb-8312-ae50bc2eda15"
      },
      "execution_count": 14,
      "outputs": [
        {
          "output_type": "stream",
          "name": "stdout",
          "text": [
            "Pushed Element: 1\n",
            "Pushed Element: 2\n",
            "Pushed Element: 3\n",
            "Pushed Element: 4\n",
            "Pushed Element: 5\n",
            "The elements in the stack are:['1', '2', '3', '4', '5']\n",
            "The elements popped from the stack: ['5', '4']\n",
            "The elements left in the stack are: ['1', '2', '3']\n"
          ]
        }
      ]
    },
    {
      "cell_type": "markdown",
      "source": [
        "Length of the stack"
      ],
      "metadata": {
        "id": "GZV-DeRF0wLP"
      }
    },
    {
      "cell_type": "code",
      "source": [
        "def create_stack():\n",
        "  stack = []\n",
        "  return stack\n",
        "\n",
        "def is_empty(stack):\n",
        "  return len(stack) == 0\n",
        "\n",
        "def push(stack,item):\n",
        "  stack.append(item)\n",
        "  print(\"Pushed Element: \"+ item)\n",
        "\n",
        "def pop(stack):\n",
        "  if (is_empty(stack)):\n",
        "    return\"The stack is empty\"\n",
        "  return stack.pop()\n",
        "\n",
        "stack = create_stack()\n",
        "push(stack, str(1))\n",
        "push(stack, str(2))\n",
        "push(stack, str(3))\n",
        "push(stack, str(4))\n",
        "push(stack, str(5))\n",
        "\n",
        "\n",
        "print(\"The elements in the stack are: \"+str(stack))\n",
        "from operator import length_hint\n",
        "inp_list = [1,2,3,4,5]\n",
        "print(\"Length of the Stack : \")\n",
        "size = length_hint(inp_list)\n",
        "print(size)"
      ],
      "metadata": {
        "colab": {
          "base_uri": "https://localhost:8080/"
        },
        "id": "hQGb5iqr0y16",
        "outputId": "2cac49b3-f137-47dc-ac2f-c0f1073f84bd"
      },
      "execution_count": 15,
      "outputs": [
        {
          "output_type": "stream",
          "name": "stdout",
          "text": [
            "Pushed Element: 1\n",
            "Pushed Element: 2\n",
            "Pushed Element: 3\n",
            "Pushed Element: 4\n",
            "Pushed Element: 5\n",
            "The elements in the stack are: ['1', '2', '3', '4', '5']\n",
            "Length of the Stack : \n",
            "5\n"
          ]
        }
      ]
    }
  ]
}