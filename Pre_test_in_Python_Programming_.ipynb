{
  "nbformat": 4,
  "nbformat_minor": 0,
  "metadata": {
    "colab": {
      "name": "Pre test in Python Programming .ipynb",
      "provenance": [],
      "authorship_tag": "ABX9TyM6IjnyOgUWOAOH+14KAd3Y",
      "include_colab_link": true
    },
    "kernelspec": {
      "name": "python3",
      "display_name": "Python 3"
    },
    "language_info": {
      "name": "python"
    }
  },
  "cells": [
    {
      "cell_type": "markdown",
      "metadata": {
        "id": "view-in-github",
        "colab_type": "text"
      },
      "source": [
        "<a href=\"https://colab.research.google.com/github/MichaelPaulMeneses/DSA-58011/blob/main/Pre_test_in_Python_Programming_.ipynb\" target=\"_parent\"><img src=\"https://colab.research.google.com/assets/colab-badge.svg\" alt=\"Open In Colab\"/></a>"
      ]
    },
    {
      "cell_type": "code",
      "execution_count": 14,
      "metadata": {
        "id": "EbAcWk6b_LNP",
        "outputId": "7695a33f-50fe-473e-bf4e-1dfadb860e09",
        "colab": {
          "base_uri": "https://localhost:8080/"
        }
      },
      "outputs": [
        {
          "output_type": "stream",
          "name": "stdout",
          "text": [
            "21\n",
            "12.56\n"
          ]
        }
      ],
      "source": [
        "class Rectangle:\n",
        "  def __init__(self,length,width):\n",
        "    self.length = length\n",
        "    self.width = width\n",
        "  \n",
        "  def Area(self):\n",
        "    print(self.length * self.width)\n",
        "\n",
        "class Circle:\n",
        "  def __init__(self,pi,radius):\n",
        "    self.pi = pi\n",
        "    self.radius = radius\n",
        "  \n",
        "  def Area(self):\n",
        "    print(self.pi * self.radius * self.radius)\n",
        "\n",
        "rect = Rectangle(7,3)\n",
        "rect.Area()\n",
        "circle = Circle(3.14,2)\n",
        "circle.Area()"
      ]
    }
  ]
}