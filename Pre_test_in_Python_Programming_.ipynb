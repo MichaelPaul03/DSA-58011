{
  "nbformat": 4,
  "nbformat_minor": 0,
  "metadata": {
    "colab": {
      "name": "Pre test in Python Programming .ipynb",
      "provenance": [],
      "authorship_tag": "ABX9TyNt4ZH/j1s0nBUVBIhwnOM0",
      "include_colab_link": true
    },
    "kernelspec": {
      "name": "python3",
      "display_name": "Python 3"
    },
    "language_info": {
      "name": "python"
    }
  },
  "cells": [
    {
      "cell_type": "markdown",
      "metadata": {
        "id": "view-in-github",
        "colab_type": "text"
      },
      "source": [
        "<a href=\"https://colab.research.google.com/github/MichaelPaulMeneses/DSA-58011/blob/main/Pre_test_in_Python_Programming_.ipynb\" target=\"_parent\"><img src=\"https://colab.research.google.com/assets/colab-badge.svg\" alt=\"Open In Colab\"/></a>"
      ]
    },
    {
      "cell_type": "code",
      "execution_count": 15,
      "metadata": {
        "id": "EbAcWk6b_LNP",
        "outputId": "1b7e62f3-83e2-43a8-ed0a-8e9dabb79122",
        "colab": {
          "base_uri": "https://localhost:8080/"
        }
      },
      "outputs": [
        {
          "output_type": "stream",
          "name": "stdout",
          "text": [
            "21\n",
            "50.24\n"
          ]
        }
      ],
      "source": [
        "class Rectangle:\n",
        "  def __init__(self,length,width):\n",
        "    self.length = length\n",
        "    self.width = width\n",
        "  \n",
        "  def Area(self):\n",
        "    print(self.length * self.width)\n",
        "\n",
        "class Circle:\n",
        "  def __init__(self,pi,radius):\n",
        "    self.pi = pi\n",
        "    self.radius = radius\n",
        "  \n",
        "  def Area(self):\n",
        "    print(self.pi * self.radius * self.radius)\n",
        "\n",
        "rect = Rectangle(7,3)\n",
        "rect.Area()\n",
        "circle = Circle(3.14,4)\n",
        "circle.Area()"
      ]
    }
  ]
}