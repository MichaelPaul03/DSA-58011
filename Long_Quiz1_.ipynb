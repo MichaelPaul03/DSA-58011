{
  "cells": [
    {
      "cell_type": "markdown",
      "metadata": {
        "id": "view-in-github",
        "colab_type": "text"
      },
      "source": [
        "<a href=\"https://colab.research.google.com/github/MichaelPaulMeneses/DSA-58011/blob/main/Long_Quiz1_.ipynb\" target=\"_parent\"><img src=\"https://colab.research.google.com/assets/colab-badge.svg\" alt=\"Open In Colab\"/></a>"
      ]
    },
    {
      "cell_type": "markdown",
      "metadata": {
        "id": "U2LCeuNPcN-F"
      },
      "source": [
        "Create a python program tht insert each cahracters of your full name and displays your full name in reverse order. \n"
      ]
    },
    {
      "cell_type": "code",
      "execution_count": null,
      "metadata": {
        "colab": {
          "base_uri": "https://localhost:8080/"
        },
        "id": "THnnvcLnSJQ_",
        "outputId": "a0676161-9d5d-4000-dd28-cb463b9ce2ca"
      },
      "outputs": [
        {
          "output_type": "stream",
          "name": "stdout",
          "text": [
            "Full name: ['Meneses', 'Michael Paul']\n",
            "Reverse Full name: ['Meneses', 'Michael Paul']\n"
          ]
        }
      ],
      "source": [
        "arr = [\"Meneses\",\"Michael Paul\"]\n",
        "print(\"Full name:\",arr)\n",
        " \n",
        "res=arr[::-1]\n",
        "print(\"Reverse Full name:\",arr)"
      ]
    }
  ],
  "metadata": {
    "colab": {
      "provenance": [],
      "authorship_tag": "ABX9TyN7Y7dN0Zh2g5KfzZlQiF4Y",
      "include_colab_link": true
    },
    "kernelspec": {
      "display_name": "Python 3",
      "name": "python3"
    },
    "language_info": {
      "name": "python"
    }
  },
  "nbformat": 4,
  "nbformat_minor": 0
}