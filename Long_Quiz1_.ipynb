{
  "cells": [
    {
      "cell_type": "markdown",
      "metadata": {
        "id": "view-in-github",
        "colab_type": "text"
      },
      "source": [
        "<a href=\"https://colab.research.google.com/github/MichaelPaulMeneses/DSA-58011/blob/main/Long_Quiz1_.ipynb\" target=\"_parent\"><img src=\"https://colab.research.google.com/assets/colab-badge.svg\" alt=\"Open In Colab\"/></a>"
      ]
    },
    {
      "cell_type": "markdown",
      "metadata": {
        "id": "U2LCeuNPcN-F"
      },
      "source": [
        "Create a python program tht insert each cahracters of your full name and displays your full name in reverse order. \n"
      ]
    },
    {
      "cell_type": "code",
      "execution_count": 1,
      "metadata": {
        "colab": {
          "base_uri": "https://localhost:8080/"
        },
        "id": "THnnvcLnSJQ_",
        "outputId": "980c6734-554c-4c65-ac9f-3f7652c42966"
      },
      "outputs": [
        {
          "output_type": "stream",
          "name": "stdout",
          "text": [
            "Full name: ['Meneses', 'Michael Paul']\n",
            "Reverse Full name: ['Michael Paul', 'Meneses']\n"
          ]
        }
      ],
      "source": [
        "arr = [\"Meneses\",\"Michael Paul\"]\n",
        "print(\"Full name:\",arr)\n",
        " \n",
        "res=arr[::-1]\n",
        "print(\"Reverse Full name:\",res)"
      ]
    }
  ],
  "metadata": {
    "colab": {
      "provenance": [],
      "include_colab_link": true
    },
    "kernelspec": {
      "display_name": "Python 3",
      "name": "python3"
    },
    "language_info": {
      "name": "python"
    }
  },
  "nbformat": 4,
  "nbformat_minor": 0
}