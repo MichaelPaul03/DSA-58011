{
  "nbformat": 4,
  "nbformat_minor": 0,
  "metadata": {
    "colab": {
      "name": "Array.ipynb",
      "provenance": [],
      "authorship_tag": "ABX9TyMex2H6wd1Fphs+fXjRP9ZD",
      "include_colab_link": true
    },
    "kernelspec": {
      "name": "python3",
      "display_name": "Python 3"
    },
    "language_info": {
      "name": "python"
    }
  },
  "cells": [
    {
      "cell_type": "markdown",
      "metadata": {
        "id": "view-in-github",
        "colab_type": "text"
      },
      "source": [
        "<a href=\"https://colab.research.google.com/github/MichaelPaulMeneses/DSA-58011/blob/main/Array.ipynb\" target=\"_parent\"><img src=\"https://colab.research.google.com/assets/colab-badge.svg\" alt=\"Open In Colab\"/></a>"
      ]
    },
    {
      "cell_type": "markdown",
      "source": [
        "Accessing the Elements in the Array"
      ],
      "metadata": {
        "id": "rkfGNI4DLEUv"
      }
    },
    {
      "cell_type": "code",
      "execution_count": 1,
      "metadata": {
        "id": "hHIGRe40-EWG",
        "colab": {
          "base_uri": "https://localhost:8080/"
        },
        "outputId": "ad2bb856-dad0-4d41-cee8-a3d9e652cda6"
      },
      "outputs": [
        {
          "output_type": "stream",
          "name": "stdout",
          "text": [
            "cat\n"
          ]
        }
      ],
      "source": [
        "animals = ['cat','dog','fish']\n",
        "x = animals[0]\n",
        "print(x)"
      ]
    },
    {
      "cell_type": "markdown",
      "source": [
        "Modifying the Elements in the Array"
      ],
      "metadata": {
        "id": "FusoXCz1LREe"
      }
    },
    {
      "cell_type": "code",
      "source": [
        "animals = ['cat','dog','fish']\n",
        "animals[0] = 'monkey'\n",
        "x=animals[0]\n",
        "x = len(animals)\n",
        "print(x)"
      ],
      "metadata": {
        "colab": {
          "base_uri": "https://localhost:8080/"
        },
        "id": "nmYHWtvfLVzg",
        "outputId": "65ea4b7f-cb12-4e3f-98f9-92d1c69a84fb"
      },
      "execution_count": 5,
      "outputs": [
        {
          "output_type": "stream",
          "name": "stdout",
          "text": [
            "3\n"
          ]
        }
      ]
    },
    {
      "cell_type": "markdown",
      "source": [
        "Looping array Elements"
      ],
      "metadata": {
        "id": "cvRB14kbMjq6"
      }
    },
    {
      "cell_type": "code",
      "source": [
        "animals = ['cat','dog','fish']\n",
        "for x in animals:\n",
        "  print(x)"
      ],
      "metadata": {
        "colab": {
          "base_uri": "https://localhost:8080/"
        },
        "id": "JelSLvoTMmwl",
        "outputId": "2277625d-ead9-4304-a4ba-c25c33c5183d"
      },
      "execution_count": 6,
      "outputs": [
        {
          "output_type": "stream",
          "name": "stdout",
          "text": [
            "cat\n",
            "dog\n",
            "fish\n"
          ]
        }
      ]
    },
    {
      "cell_type": "markdown",
      "source": [
        "Adding Elements in the Array"
      ],
      "metadata": {
        "id": "_F1gFIDOM974"
      }
    },
    {
      "cell_type": "code",
      "source": [
        "animals = ['cat','dog','fish']\n",
        "animals.append('monkey')\n",
        "print(animals)"
      ],
      "metadata": {
        "colab": {
          "base_uri": "https://localhost:8080/"
        },
        "id": "dftSQhP2NDB4",
        "outputId": "c4f3c0b9-b56c-4492-baa9-121600149040"
      },
      "execution_count": 7,
      "outputs": [
        {
          "output_type": "stream",
          "name": "stdout",
          "text": [
            "['cat', 'dog', 'fish', 'monkey']\n"
          ]
        }
      ]
    },
    {
      "cell_type": "markdown",
      "source": [
        "Removing an Element in the Array"
      ],
      "metadata": {
        "id": "iFUoWxuVNx8i"
      }
    },
    {
      "cell_type": "code",
      "source": [
        "animals = ['cat','dog','fish']\n",
        "animals.pop(1)\n",
        "animals.pop(0)\n",
        "print(animals)"
      ],
      "metadata": {
        "colab": {
          "base_uri": "https://localhost:8080/"
        },
        "id": "YzxrWEyFN2o_",
        "outputId": "dc475248-5f15-466d-8599-f1f2ea8b52be"
      },
      "execution_count": 10,
      "outputs": [
        {
          "output_type": "stream",
          "name": "stdout",
          "text": [
            "['fish']\n"
          ]
        }
      ]
    }
  ]
}