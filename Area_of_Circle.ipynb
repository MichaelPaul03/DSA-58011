{
  "nbformat": 4,
  "nbformat_minor": 0,
  "metadata": {
    "colab": {
      "name": "Area of Circle.ipynb",
      "provenance": [],
      "authorship_tag": "ABX9TyOYxL6cDP30WkPGXFdOfdgE",
      "include_colab_link": true
    },
    "kernelspec": {
      "name": "python3",
      "display_name": "Python 3"
    },
    "language_info": {
      "name": "python"
    }
  },
  "cells": [
    {
      "cell_type": "markdown",
      "metadata": {
        "id": "view-in-github",
        "colab_type": "text"
      },
      "source": [
        "<a href=\"https://colab.research.google.com/github/MichaelPaulMeneses/DSA-58011/blob/main/Area_of_Circle.ipynb\" target=\"_parent\"><img src=\"https://colab.research.google.com/assets/colab-badge.svg\" alt=\"Open In Colab\"/></a>"
      ]
    },
    {
      "cell_type": "code",
      "execution_count": 5,
      "metadata": {
        "id": "JuQbDivqDZaK",
        "colab": {
          "base_uri": "https://localhost:8080/"
        },
        "outputId": "b131d4c0-edad-4ddc-fdd2-1ea24af9fb0b"
      },
      "outputs": [
        {
          "output_type": "stream",
          "name": "stdout",
          "text": [
            "78.5\n"
          ]
        }
      ],
      "source": [
        "class Circle:\n",
        "  def __init__(self,pi,radius):\n",
        "    self.pi = pi\n",
        "    self.radius = radius\n",
        "  \n",
        "  def Area(self):\n",
        "    print(self.pi * self.radius * self.radius)\n",
        "\n",
        "circle = Circle(3.14,5)\n",
        "circle.Area()"
      ]
    }
  ]
}