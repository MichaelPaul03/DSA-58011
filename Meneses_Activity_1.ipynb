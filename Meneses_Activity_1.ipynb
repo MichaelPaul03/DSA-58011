{
  "nbformat": 4,
  "nbformat_minor": 0,
  "metadata": {
    "colab": {
      "provenance": [],
      "authorship_tag": "ABX9TyN9GaElyzzTl4Uc76EWlacC",
      "include_colab_link": true
    },
    "kernelspec": {
      "name": "python3",
      "display_name": "Python 3"
    },
    "language_info": {
      "name": "python"
    }
  },
  "cells": [
    {
      "cell_type": "markdown",
      "metadata": {
        "id": "view-in-github",
        "colab_type": "text"
      },
      "source": [
        "<a href=\"https://colab.research.google.com/github/MichaelPaulMeneses/DSA-58011/blob/main/Meneses_Activity_1.ipynb\" target=\"_parent\"><img src=\"https://colab.research.google.com/assets/colab-badge.svg\" alt=\"Open In Colab\"/></a>"
      ]
    },
    {
      "cell_type": "markdown",
      "source": [
        "1. Write a Python program to create an array of 10 integers and display the array items. Access individual elements through indexes and compute for the sum."
      ],
      "metadata": {
        "id": "u3L3BuqtWs75"
      }
    },
    {
      "cell_type": "code",
      "execution_count": 11,
      "metadata": {
        "colab": {
          "base_uri": "https://localhost:8080/"
        },
        "id": "mrlo3tplTESc",
        "outputId": "dfc8fa7d-dcab-402a-b9cb-c66bf78bbd87"
      },
      "outputs": [
        {
          "output_type": "stream",
          "name": "stdout",
          "text": [
            "1\n",
            "2\n",
            "3\n",
            "4\n",
            "5\n",
            "6\n",
            "7\n",
            "8\n",
            "9\n",
            "0\n",
            "Access items individually\n",
            "1\n",
            "2\n",
            "3\n",
            "4\n",
            "5\n",
            "6\n",
            "7\n",
            "8\n",
            "9\n",
            "0\n",
            "Sum of the array is  45\n"
          ]
        }
      ],
      "source": [
        "from array import *\n",
        "array_num = array('i', [1,2,3,4,5,6,7,8,9,0])\n",
        "for i in array_num:\n",
        "    print(i)\n",
        "print(\"Access items individually\")\n",
        "print(array_num[0])\n",
        "print(array_num[1])\n",
        "print(array_num[2])\n",
        "print(array_num[3])\n",
        "print(array_num[4])\n",
        "print(array_num[5])\n",
        "print(array_num[6])\n",
        "print(array_num[7])\n",
        "print(array_num[8])\n",
        "print(array_num[9])\n",
        "\n",
        "def _sum(array):\n",
        "  sum = 0\n",
        "  for i in array_num:\n",
        "    sum = sum + i\n",
        "  return(sum)\n",
        "\n",
        "arr = []\n",
        "arr = [1,2,3,4,5,6,7,8,9,0]\n",
        "n = len(arr)\n",
        "ans = _sum(array)\n",
        "print('Sum of the array is ', ans)"
      ]
    },
    {
      "cell_type": "markdown",
      "source": [
        "2. Write a Python program to append a new item to the end of the array. Original array: numbers = [1, 2, 3, 4, 5, 6, 7, 8, 9, 10]"
      ],
      "metadata": {
        "id": "f7CRJJkWWw03"
      }
    },
    {
      "cell_type": "code",
      "source": [
        "import array as arr\n",
        "\n",
        "a = arr.array('i', [1,2,3,4,5,6,7,8,9,10])\n",
        "print (\"Array before adding: \",end =\" \")\n",
        "for i in range (0,10):\n",
        "  print (a[i], end = \" \")\n",
        "print()\n",
        "\n",
        "a.insert(10,11)\n",
        "print (\"Array after adding: \",end =\" \")\n",
        "for i in (a):\n",
        "  print (i, end = \" \")\n",
        "print()"
      ],
      "metadata": {
        "colab": {
          "base_uri": "https://localhost:8080/"
        },
        "id": "L7NH9X26W4Da",
        "outputId": "edf51d0d-0e38-4e00-99b8-7176ddb347aa"
      },
      "execution_count": 19,
      "outputs": [
        {
          "output_type": "stream",
          "name": "stdout",
          "text": [
            "Array before adding:  1 2 3 4 5 6 7 8 9 10 \n",
            "Array after adding:  1 2 3 4 5 6 7 8 9 10 11 \n"
          ]
        }
      ]
    },
    {
      "cell_type": "markdown",
      "source": [
        "3. Write a Python program to insert a new item before the second element in an existing array. Original array: numbers = [1, 2, 3, 4, 5, 6, 7, 8, 9, 10]"
      ],
      "metadata": {
        "id": "q8Gdce8Kaw5E"
      }
    },
    {
      "cell_type": "code",
      "source": [
        "import array as arr\n",
        "\n",
        "a = arr.array('i', [1,2,3,4,5,6,7,8,9,10])\n",
        "print (\"Array before adding: \",end =\" \")\n",
        "for i in range (0,10):\n",
        "  print (a[i], end = \" \")\n",
        "print()\n",
        "\n",
        "a.insert(1,11)\n",
        "print (\"Array after adding: \",end =\" \")\n",
        "for i in (a):\n",
        "  print (i, end = \" \")\n",
        "print()"
      ],
      "metadata": {
        "colab": {
          "base_uri": "https://localhost:8080/"
        },
        "id": "QIUbXfmta0aK",
        "outputId": "b569c0f4-8c2c-4f80-a88d-09881ad84f2a"
      },
      "execution_count": 20,
      "outputs": [
        {
          "output_type": "stream",
          "name": "stdout",
          "text": [
            "Array before adding:  1 2 3 4 5 6 7 8 9 10 \n",
            "Array after adding:  1 11 2 3 4 5 6 7 8 9 10 \n"
          ]
        }
      ]
    },
    {
      "cell_type": "markdown",
      "source": [
        "4. Write a Python program to reverse the order of the items in the array.Original array: numbers = [5, 4, 3, 2, 1]"
      ],
      "metadata": {
        "id": "0cgvQPAHbIYN"
      }
    },
    {
      "cell_type": "code",
      "source": [
        "arr = [5, 4, 3, 2, 1]\n",
        "print(\"Before reversal Array is :\",arr)\n",
        " \n",
        "arr.reverse() \n",
        "print(\"After reversing Array:\",arr)"
      ],
      "metadata": {
        "colab": {
          "base_uri": "https://localhost:8080/"
        },
        "id": "5KUx1EIKbKzR",
        "outputId": "f658de8d-bb70-4628-a0b4-d546defeca10"
      },
      "execution_count": 21,
      "outputs": [
        {
          "output_type": "stream",
          "name": "stdout",
          "text": [
            "Before reversal Array is : [5, 4, 3, 2, 1]\n",
            "After reversing Array: [1, 2, 3, 4, 5]\n"
          ]
        }
      ]
    },
    {
      "cell_type": "markdown",
      "source": [
        "5. Write a Python program to get the length of the array. Original array: numbers = [5, 4, 3, 2, 1]"
      ],
      "metadata": {
        "id": "wNAsncQhbgSN"
      }
    },
    {
      "cell_type": "code",
      "source": [
        "from operator import length_hint\n",
        "inp_list = [5,4,3,2,1]\n",
        "print(\"Length of Array: \")\n",
        "size = length_hint(inp_list)\n",
        "print(size)"
      ],
      "metadata": {
        "colab": {
          "base_uri": "https://localhost:8080/"
        },
        "id": "yM4pH3ZabjVb",
        "outputId": "6bf25ea5-07c5-4619-e511-0efb5b3ea6c5"
      },
      "execution_count": 22,
      "outputs": [
        {
          "output_type": "stream",
          "name": "stdout",
          "text": [
            "Length of Array: \n",
            "5\n"
          ]
        }
      ]
    }
  ]
}